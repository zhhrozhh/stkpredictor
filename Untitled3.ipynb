{
 "cells": [
  {
   "cell_type": "code",
   "execution_count": 1,
   "metadata": {
    "collapsed": true,
    "nbpresent": {
     "id": "76dd910f-6c00-45a4-aace-163d8c3b7b8f"
    }
   },
   "outputs": [],
   "source": [
    "from functools import reduce\n",
    "def stkdata(stk):\n",
    "    return DailyData(stk,['Dec','1','2000'],['Dec','1','2017']).getData()\n",
    "def mu(dt):\n",
    "    return reduce(lambda x,y:x+y,dt)/float(len(dt))\n",
    "def sigma(dt):\n",
    "    m = mu(dt)\n",
    "    n = float(len(dt))\n",
    "    return (reduce(lambda x,y:x+y,[(x-m)**2 for x in dt])/n)**0.5\n",
    "def cov(dt1,dt2):\n",
    "    m1 = mu(dt1)\n",
    "    m2 = mu(dt2)\n",
    "    res = D_i(0)\n",
    "    for i in range(len(dt1)):\n",
    "        res = res + (dt1[i]-m1)*(dt2[i]-m2)\n",
    "    return res/float(len(dt1))\n",
    "def __similarity(dt1,dt2):\n",
    "    s1 = sigma(dt1)\n",
    "    s2 = sigma(dt2)\n",
    "    return cov(dt1,dt2)//(s1*s2)\n",
    "def __similarity_cos(dt1,dt2):\n",
    "    ab = reduce(lambda x,y:x+y,[dt1[i]*dt2[i] for i in range(len(dt1))])\n",
    "    aa = reduce(lambda x,y:x+y,[x**2 for x in dt1])**0.5\n",
    "    bb = reduce(lambda x,y:x+y,[x**2 for x in dt2])**0.5\n",
    "    return ab//(aa*bb)\n",
    "def stk_covSimilarity(stk1,stk2,nd = 9999):\n",
    "    dt1 = stkdata(stk1)\n",
    "    dt2 = stkdata(stk2)\n",
    "    wsize = len(dt1)\n",
    "    n = min(len(dt2) - len(dt1),nd)\n",
    "    res = []\n",
    "    for i in range(n):\n",
    "        res.append(__similarity(dt1,dt2[n-i:n-i+wsize]))\n",
    "    return mu(res)\n",
    "def stk_cosSimilarity(stk1,stk2,nd = 9999):\n",
    "    dt1 = stkdata(stk1)\n",
    "    dt2 = stkdata(stk2)\n",
    "    wsize = len(dt1)\n",
    "    n = min(len(dt2)-len(dt1),nd)\n",
    "    res = []\n",
    "    for i in range(n):\n",
    "        res.append(__similarity_cos(dt1,dt2[n-i:n-i+wsize]))\n",
    "    return mu(res)\n",
    "\n",
    "\n",
    "\n",
    "def dicIncDef(dic,key):\n",
    "    try:\n",
    "        dic[key]+=1\n",
    "    except:\n",
    "        dic[key]=1"
   ]
  },
  {
   "cell_type": "code",
   "execution_count": 2,
   "metadata": {
    "collapsed": false,
    "nbpresent": {
     "id": "01b06cba-1119-4a91-a8b7-215c6f4ac278"
    }
   },
   "outputs": [],
   "source": [
    "class D_i:\n",
    "    def __init__(self,l,**arg):\n",
    "        if not l:\n",
    "            self.inc = 0\n",
    "            self.o = 0\n",
    "            self.h = 0\n",
    "            self.l = 0\n",
    "            self.c = 0\n",
    "            self.v = 0\n",
    "            return\n",
    "        self.inc = (float(arg['close'])-float(arg['open']))*100.0/l\n",
    "        if arg['s_avg']:\n",
    "            self.inc = (float(arg['open'])/2+float(arg['close'])/2)*100/l-100\n",
    "        self.o = float(arg['open'])\n",
    "        self.c = float(arg['close'])\n",
    "        self.h = float(arg['high'])\n",
    "        self.l = float(arg['low'])\n",
    "        self.v = float(arg['volume'])/10000.0\n",
    "    def __add__(self,oth):\n",
    "        res = D_i(0)\n",
    "        res.inc = self.inc+oth.inc\n",
    "        res.h = self.h+oth.h\n",
    "        res.l = self.l+oth.l\n",
    "        res.o = self.o+oth.o\n",
    "        res.c = self.c+oth.c\n",
    "        res.v = self.v+oth.v\n",
    "        return res\n",
    "    def __sub__(self,oth):\n",
    "        res = D_i(0)\n",
    "        res.inc = self.inc-oth.inc\n",
    "        res.h = self.h-oth.h\n",
    "        res.l = self.l-oth.l\n",
    "        res.o = self.o-oth.o\n",
    "        res.c = self.c-oth.c\n",
    "        res.v = self.v-oth.v\n",
    "        return res\n",
    "    def __mul__(self,oth):\n",
    "        res = D_i(0)\n",
    "        res.inc = self.inc*oth.inc\n",
    "        res.h = self.h*oth.h\n",
    "        res.l = self.l*oth.l\n",
    "        res.o = self.o*oth.o\n",
    "        res.c = self.c*oth.c\n",
    "        res.v = self.v*oth.v\n",
    "        return res\n",
    "    def __truediv__(self,oth):\n",
    "        res = D_i(0)\n",
    "        res.inc = self.inc/oth\n",
    "        res.h = self.h/oth\n",
    "        res.l = self.l/oth\n",
    "        res.o = self.o/oth\n",
    "        res.c = self.c/oth\n",
    "        res.v = self.v/oth\n",
    "        return res\n",
    "    def __and__(self,oth):\n",
    "        res = D_i(0)\n",
    "        res.inc = self.inc*oth\n",
    "        res.h = self.h*oth\n",
    "        res.l = self.l*oth\n",
    "        res.o = self.o*oth\n",
    "        res.c = self.c*oth\n",
    "        res.v = self.v*oth\n",
    "        return res\n",
    "    def __floordiv__(self,oth):\n",
    "        res = D_i(0)\n",
    "        res.inc = self.inc/oth.inc\n",
    "        res.h = self.h/oth.h\n",
    "        res.l = self.l/oth.l\n",
    "        res.o = self.o/oth.o\n",
    "        res.c = self.c/oth.c\n",
    "        res.v = self.v/oth.v\n",
    "        return res\n",
    "    def __pow__(self,oth):\n",
    "        res = D_i(0)\n",
    "        res.inc = self.inc**oth\n",
    "        res.h = self.h**oth\n",
    "        res.l = self.l**oth\n",
    "        res.o = self.o**oth\n",
    "        res.c = self.c**oth\n",
    "        res.v = self.v**oth\n",
    "        return res\n",
    "    def __str__(self):\n",
    "        return str([self.inc,self.o,self.h,self.l,self.c,self.v])"
   ]
  },
  {
   "cell_type": "code",
   "execution_count": 3,
   "metadata": {
    "collapsed": false
   },
   "outputs": [],
   "source": [
    "import matplotlib.pyplot as plt\n",
    "get_ipython().magic('matplotlib inline')\n",
    "def plt_data(data,**arg ):\n",
    "    att = 'inc'\n",
    "    if 'att' in arg:\n",
    "        att = arg['att']\n",
    "    factor = 1.0\n",
    "    if 'factor' in arg:\n",
    "        factor=arg['factor']\n",
    "    yshift = 0\n",
    "    if 'yshift' in arg:\n",
    "        yshift = arg['yshift']\n",
    "    p = [getattr(d,att)*factor+yshift for d in data]\n",
    "    return plt.plot(p) "
   ]
  },
  {
   "cell_type": "code",
   "execution_count": 4,
   "metadata": {
    "collapsed": false,
    "nbpresent": {
     "id": "86aea9fb-e173-400e-b3ae-93a5d2c6b61a"
    }
   },
   "outputs": [],
   "source": [
    "import copy\n",
    "import urllib\n",
    "import urllib.request\n",
    "import csv\n",
    "import io\n",
    "class DailyData:\n",
    "    def __init__(self,scode,sdate,edate,hourly = False):\n",
    "        if not hourly:\n",
    "            f = urllib.request.urlopen('http://www.google.com/finance/historical?q='+ \\\n",
    "                           scode+\\\n",
    "                           '&startdate='+sdate[0]+'+'+sdate[1]+'%2C+'+sdate[2]+\\\n",
    "                           '&enddate='+edate[0]+'+'+edate[1]+'%2C+'+edate[2]+\\\n",
    "                           '&output=csv')\n",
    "            s = csv.reader(io.StringIO(f.read().decode('utf-8-sig')))\n",
    "            self.s = list(s)[1:][::-1]\n",
    "        if hourly:\n",
    "            f = urllib.request.urlopen('https://www.google.com/finance/getprices?i=3600&p=600d&f=d,o,h,l,c,v&df=cpct&q='+scode.upper())\n",
    "            s = csv.reader(io.StringIO(f.read().decode('utf-8-sig')))\n",
    "            self.s = list(s)[7:]\n",
    "    def getData(self,**arg):\n",
    "        setavg = False\n",
    "        #print(arg)\n",
    "        if 's_avg' in arg:\n",
    "            setavg = True\n",
    "        res = []\n",
    "        l = float(self.s[0][1])/2+float(self.s[0][4])/2\n",
    "        for x in self.s:\n",
    "            try:\n",
    "                res.append(D_i(l,open = x[1],high=x[2],low=x[3],close=x[4],volume=x[5],s_avg=setavg))\n",
    "            \n",
    "                l = float(x[4])\n",
    "                if setavg:\n",
    "                    l = (float(x[1])+float(x[4]))/2\n",
    "            except:\n",
    "                pass\n",
    "        self.data = res\n",
    "        return copy.deepcopy(res)\n",
    "    def getdData(self,**arg):\n",
    "        dvar = ['inc']\n",
    "        if 'dvar' in arg:\n",
    "            dvar = arg['dvar']\n",
    "        order = 1\n",
    "        if 'order' in arg:\n",
    "            order = arg['order']\n",
    "        try:\n",
    "            dt = copy.deepcopy(self.data)\n",
    "        except:\n",
    "            dt = copy.deepcopy(self.getData())\n",
    "        res = [dt,copy.deepcopy(dt)]\n",
    "        for od in range(order):\n",
    "            for dv in dvar:\n",
    "                for i in range(1,len(dt)):\n",
    "                    setattr( res[(od+1)%2][i-1],dv, getattr(res[od%2][i],dv)-getattr(res[od%2][i-1],dv))\n",
    "        return res[order%2]\n",
    "        "
   ]
  },
  {
   "cell_type": "code",
   "execution_count": 5,
   "metadata": {
    "collapsed": true,
    "nbpresent": {
     "id": "929e0ca3-e13c-4ca5-a3fb-891a38032200"
    }
   },
   "outputs": [],
   "source": [
    "class RScale:\n",
    "    def __init__(self,**arg):\n",
    "        if 'rule' in arg:\n",
    "            self.rule = arg['rule']\n",
    "        else:\n",
    "            self.rule = [-12.5,-10.0,-5.0,-2.5,-1.25,-0.0001,0.0001,1.25,2.5,5.0,10.0,12.5]\n",
    "        if 'dist' in arg:\n",
    "            self.dist = arg['dist']\n",
    "        else:\n",
    "            self.dist = {x:1 for x in self.rule}\n",
    "    def fit(self,x):\n",
    "        for i in range(len(self.rule)-1):\n",
    "            if x>=self.rule[i] and x<=self.rule[i+1]:\n",
    "                return self.rule[i] if self.rule[i]>=0 else self.rule[i+1]\n",
    "            if x>=self.rule[len(self.rule)-1]:\n",
    "                return self.rule[len(self.rule)-1]\n",
    "            if x<=self.rule[0]:\n",
    "                return self.rule[0]\n",
    "    def disp(self):\n",
    "        for x in self.rule:\n",
    "            if x<0:\n",
    "                print(self.dist[x],end = '___')\n",
    "                print(x,end = '___')\n",
    "            else:\n",
    "                print(x,end = '___')\n",
    "                print(self.dist[x],end = '___')\n",
    "    def exp(self,dist):\n",
    "        mexp = 0\n",
    "        Mexp = 0\n",
    "        for i in range(len(self.rule)):\n",
    "            #print(mexp,Mexp)\n",
    "            if self.rule[i]>0:\n",
    "                mexp+=self.rule[i]*dist[self.rule[i]]\n",
    "                try:\n",
    "                    Mexp+=self.rule[i+1]*dist[self.rule[i]]\n",
    "                except:\n",
    "                    Mexp+=self.rule[i]*dist[self.rule[i]]\n",
    "            else:\n",
    "                Mexp+=self.rule[i]*dist[self.rule[i]]\n",
    "                if i:\n",
    "                    mexp+=self.rule[i-1]*dist[self.rule[i]]\n",
    "                else:\n",
    "                    mexp+=self.rule[i]*dist[self.rule[i]]\n",
    "        return (mexp,Mexp)\n",
    "    def counter(self):\n",
    "        return {x:0 for x in self.rule}\n",
    "    def features(self):\n",
    "        return {x:{} for x in self.rule}\n",
    "\n"
   ]
  },
  {
   "cell_type": "code",
   "execution_count": 6,
   "metadata": {
    "collapsed": true,
    "nbpresent": {
     "id": "59add882-167a-4dd7-9c0d-3c3ee5701d60"
    }
   },
   "outputs": [],
   "source": [
    "class Queue_n:\n",
    "    def __init__(self,n,**arg):\n",
    "        self.n = n\n",
    "        if 'queue' in arg:\n",
    "            self.q = arg['queue']\n",
    "        else:\n",
    "            self.q = []\n",
    "        self.sat = False\n",
    "    def append(self,x):\n",
    "        self.q.append(x)\n",
    "        if len(self.q)>self.n:\n",
    "            self.q.pop(0)\n",
    "            self.sat = True\n",
    "    def tstr(self,cata):\n",
    "        res = ''\n",
    "        for i in self.q:\n",
    "            res+=str(cata.index(i))\n",
    "        return res"
   ]
  },
  {
   "cell_type": "code",
   "execution_count": 7,
   "metadata": {
    "collapsed": false,
    "nbpresent": {
     "id": "e106d386-e850-460a-94bb-fc985cd46790"
    }
   },
   "outputs": [],
   "source": [
    "from math import log\n",
    "import time\n",
    "class BbayesSS:\n",
    "    def __init__(self,**arg):\n",
    "        if 'code' in arg:\n",
    "            self.code = arg['code']\n",
    "        else:\n",
    "            self.code = 'NONE'\n",
    "        if 'rule' in arg:\n",
    "            self.rule = rule\n",
    "        else:\n",
    "            self.rule = RScale()\n",
    "        self.ngram_l = {}\n",
    "        self.ngram_feature = {}\n",
    "        self.labelCount = {}\n",
    "        self.labelFeature = {x:{} for x in self.rule.rule}\n",
    "        self.featureCount = {}\n",
    "        self.k = 1\n",
    "        self.td = False\n",
    "    def set_training_data(self,td):\n",
    "        self.td = True\n",
    "        self.tdata = td\n",
    "    def ngram_train(self,n,sdate=[],edate=[],hourly=False):\n",
    "        que = Queue_n(n)\n",
    "        self.ngram_l[n] = {x:0 for x in self.rule.rule}\n",
    "        self.ngram_feature[n] = {x:{} for x in self.rule.rule}\n",
    "        tdata = []\n",
    "        if not self.td:\n",
    "            tdata = DailyData(self.code,sdate,edate,hourly).getData()\n",
    "        else:\n",
    "            tdata = self.tdata\n",
    "        for x in tdata:\n",
    "            y = self.rule.fit(x.inc)\n",
    "            if que.sat:\n",
    "                dicIncDef(self.ngram_l[n],y)\n",
    "                dicIncDef(self.ngram_feature[n][y],que.tstr(self.rule.rule))\n",
    "            que.append(y)\n",
    "    def ngram_dist(self,n,evi):\n",
    "        try:\n",
    "            ff = [self.rule.fit(evi[i].inc) for i in range(n)]\n",
    "        except:\n",
    "            ff = evi\n",
    "        ff = Queue_n(n,queue=ff).tstr(self.rule.rule)\n",
    "        res = self.rule.counter()\n",
    "        dist = {}\n",
    "        for key in self.ngram_l[n]:\n",
    "            p_key = log(float(self.ngram_l[n][key]+self.k)/float(sum(self.ngram_l[n][qq] for qq in self.ngram_l[n])+self.k))\n",
    "            try:\n",
    "                p_key += log(float(self.ngram_feature[n][key][ff]+self.k)/float(self.ngram_l[n][key]+self.k*2))\n",
    "            except:\n",
    "                p_key += log(float(self.k)/float(sum(self.ngram_l[n][k] for k in self.ngram_l[n])+self.k*2))\n",
    "            dist[key] = p_key\n",
    "        s = sum(2**dist[x] for x in dist)\n",
    "        for x in dist:\n",
    "            dist[x]=2**dist[x]/s\n",
    "            if dist[x]<0.00001:\n",
    "                dist[x]=0\n",
    "        return dist\n",
    "    def n_day_bayes_train(self,n,sdate,edate,hourly = False):\n",
    "        que = Queue_n(n)\n",
    "        if not self.td:\n",
    "            tdata = DailyData(self.code,sdate,edate,hourly).getData()\n",
    "        else:\n",
    "            tdata = self.tdata\n",
    "        self.featureCount = {x:{f:self.k for f in self.rule.rule} for x in range(n)}\n",
    "        self.featureCount_l = {f:self.k for f in self.rule.rule}\n",
    "        p_vol = 0\n",
    "        p_h = 0\n",
    "        p_l = 0\n",
    "        for x in tdata:\n",
    "            inc = self.rule.fit(x.inc)\n",
    "            if que.sat:\n",
    "                dicIncDef(self.labelCount,inc)\n",
    "                for i in range(n):\n",
    "                    self.featureCount[i][que.q[i]]+=1\n",
    "                    self.featureCount_l[que.q[i]]+=1\n",
    "                    try:\n",
    "                        dicIncDef(self.labelFeature[inc][i],que.q[i])\n",
    "                    except:\n",
    "                        self.labelFeature[inc][i]={que.q[i]:1}\n",
    "                try:\n",
    "                    dicIncDef(self.labelFeature[inc]['v'],p_vol)\n",
    "                except:\n",
    "                    self.labelFeature[inc]['v'] = {p_vol:1}\n",
    "                try:\n",
    "                    dicIncDef(self.labelFeature[inc]['h'],p_h)\n",
    "                except:\n",
    "                    self.labelFeature[inc]['h'] = {p_h:1}\n",
    "                try:\n",
    "                    dicIncDef(self.labelFeature[inc]['l'],p_l)\n",
    "                except:\n",
    "                    self.labelFeature[inc]['l'] = {p_l:1}\n",
    "            que.append(inc)\n",
    "            p_vol = int(x.v/1000)\n",
    "            p_h = int(x.h)\n",
    "            p_l = int(x.l)\n",
    "    def n_day_bayes_dist(self,n,nday,weight = False):\n",
    "        dist = {}\n",
    "        w = [1 for x in range(n)]\n",
    "        if weight:\n",
    "            w = [float(i+self.k)/float(sum(range(n))+n*self.k) for i in range(n)]\n",
    "        for inc in self.rule.rule:\n",
    "            p = log(float(self.labelCount[inc]+self.k)/float(sum(self.labelCount[x] for x in self.labelCount)+self.k))\n",
    "            for i in range(n):\n",
    "                try:\n",
    "                    f = self.rule.fit(nday[i].inc)\n",
    "                except:\n",
    "                    f = nday[i]\n",
    "                try:\n",
    "                    p+=w[i]*log(float(self.labelFeature[inc][i][f]+self.k)/float(self.labelCount[inc]+2*self.k))\n",
    "                except Exception as e:\n",
    "                    p+=w[i]*log(float(self.labelCount[inc]+self.k)/float(sum(self.labelCount[x] for x in self.labelCount)+self.k))\n",
    "            dist[inc]=p\n",
    "        s = sum(2**dist[x] for x in dist)\n",
    "        for x in dist:\n",
    "            dist[x]=2**dist[x]/s\n",
    "            if dist[x]<0.00001:\n",
    "                dist[x]=0\n",
    "        return dist\n",
    "    def n_day_bayes_codist(self,n,nday,coset=[]):\n",
    "        sim = [stk_covSimilarity(self.code,oth.code,20) for oth in coset]\n",
    "        #ss = reduce(lambda x,y:x+y,[x**2 for x in sim])\n",
    "        print([x.inc for x in sim])\n",
    "        codist = [oth.n_day_bayes_dist(n,nday) for oth in coset]\n",
    "        for i in range(len(coset)):\n",
    "            print(coset[i].code+':')\n",
    "            print(codist[i])\n",
    "            print()\n",
    "        mdist = self.n_day_bayes_dist(n,nday)\n",
    "        for i in range(len(sim)):\n",
    "            for f in self.rule.rule:\n",
    "                mdist[f]+=(sim[i].inc)*codist[i][f]\n",
    "        s = sum(mdist[x] for x in mdist)\n",
    "        for x in mdist:\n",
    "            mdist[x] = mdist[x]/s\n",
    "        return mdist\n",
    "    def _2day_predict(self,n1=9,n2=2):\n",
    "        sdate = ['Dec','1','2000']\n",
    "        edate = time.strftime('%b %d %Y').split()\n",
    "        data = DailyData('yrd',sdate,edate).getData()\n",
    "        self.n_day_bayes_train(n1,sdate,edate)\n",
    "        self.ngram_train(n2,sdate,edate)\n",
    "        nd_evd = [self.rule.fit(x.inc) for x in data[-n1:]]\n",
    "        ng_evd = [self.rule.fit(x.inc) for x in data[-n2:]]\n",
    "        day1_nd = self.n_day_bayes_dist(n1,nd_evd)\n",
    "        day1_ng = self.ngram_dist(n2,ng_evd)\n",
    "        day1 = {x:day1_nd[x]/2+day1_ng[x]/2 for x in self.rule.rule}\n",
    "        \n",
    "        day2 = {x:0 for x in self.rule.rule}\n",
    "        for f in self.rule.rule:\n",
    "            nd2_evd = nd_evd[1:]+[f]\n",
    "            ng2_evd = ng_evd[1:]+[f]\n",
    "            day2_nd = self.n_day_bayes_dist(n1,nd2_evd)\n",
    "            day2_ng = self.ngram_dist(n2,ng2_evd)\n",
    "            for k in self.rule.rule:\n",
    "                day2[k] += day1[f]*(day2_nd[k]/2+day2_ng[k]/2)\n",
    "        return [day1,day2]"
   ]
  },
  {
   "cell_type": "code",
   "execution_count": 8,
   "metadata": {
    "collapsed": false
   },
   "outputs": [],
   "source": [
    "yrd = BbayesSS(code = 'yrd')\n",
    "h = yrd._2day_predict()"
   ]
  },
  {
   "cell_type": "code",
   "execution_count": 9,
   "metadata": {
    "collapsed": false,
    "nbpresent": {
     "id": "8a94e969-f525-43a7-a464-2e597300d127"
    },
    "scrolled": true
   },
   "outputs": [],
   "source": [
    "#yrd = BbayesSS(code = 'yrd')\n",
    "sdate = ['Dec','1','2000']\n",
    "edate = ['Dec','29','2017']\n",
    "data = DailyData('yrd',sdate,edate).getData()\n",
    "#x = BbayesSS(code = 'x')\n",
    "#bac = BbayesSS(code = 'bac')\n",
    "#jpm = BbayesSS(code = 'jpm')\n",
    "#lmt = BbayesSS(code = 'lmt')\n",
    "#nyt = BbayesSS(code = 'nyt')\n",
    "#coset = [x,bac,jpm,nyt]\n",
    "#yrd.n_day_bayes_train(9,sdate,edate)\n",
    "#for stk in coset:\n",
    "#    print(stk.code)\n",
    "#    stk.n_day_bayes_train(9,sdate,edate)\n",
    "#yrd.n_day_bayes_codist(9,data[-9:],coset)"
   ]
  },
  {
   "cell_type": "code",
   "execution_count": 10,
   "metadata": {
    "collapsed": false
   },
   "outputs": [],
   "source": [
    "#w = yrd.n_day_bayes_dist(9,data[-9:])\n",
    "w = h[0]"
   ]
  },
  {
   "cell_type": "code",
   "execution_count": 11,
   "metadata": {
    "collapsed": false,
    "scrolled": true
   },
   "outputs": [
    {
     "data": {
      "text/plain": [
       "<Container object of 12 artists>"
      ]
     },
     "execution_count": 11,
     "metadata": {},
     "output_type": "execute_result"
    },
    {
     "data": {
      "image/png": "[encoded data removed]",
      "text/plain": [
       "<matplotlib.figure.Figure at 0x8e8f79c6d8>"
      ]
     },
     "metadata": {},
     "output_type": "display_data"
    }
   ],
   "source": [
    "plt.figure(figsize=(10,4))\n",
    "plt.xticks(range(len(w)),yrd.rule.rule)\n",
    "plt.bar(range(len(w)),[w[x]for x in yrd.rule.rule],1,align = 'center')\n"
   ]
  },
  {
   "cell_type": "code",
   "execution_count": 12,
   "metadata": {
    "collapsed": true
   },
   "outputs": [],
   "source": [
    "#yrd.ngram_train(2,sdate,edate)\n",
    "#ww = yrd.ngram_dist(2,data[-2:])\n",
    "ww = h[1]"
   ]
  },
  {
   "cell_type": "code",
   "execution_count": 13,
   "metadata": {
    "collapsed": false
   },
   "outputs": [
    {
     "data": {
      "text/plain": [
       "<Container object of 12 artists>"
      ]
     },
     "execution_count": 13,
     "metadata": {},
     "output_type": "execute_result"
    },
    {
     "data": {
      "image/png": "[encoded data removed]",
      "text/plain": [
       "<matplotlib.figure.Figure at 0x8e8f79c390>"
      ]
     },
     "metadata": {},
     "output_type": "display_data"
    }
   ],
   "source": [
    "plt.figure(figsize=(10,4))\n",
    "plt.xticks(range(len(ww)),yrd.rule.rule)\n",
    "plt.bar(range(len(ww)),[ww[x]for x in yrd.rule.rule],1,align = 'center')"
   ]
  },
  {
   "cell_type": "code",
   "execution_count": 14,
   "metadata": {
    "collapsed": true
   },
   "outputs": [],
   "source": [
    "wz = {x:w[x]/2+ww[x]/2 for x in yrd.rule.rule}"
   ]
  },
  {
   "cell_type": "code",
   "execution_count": 15,
   "metadata": {
    "collapsed": false,
    "scrolled": true
   },
   "outputs": [
    {
     "data": {
      "text/plain": [
       "<Container object of 12 artists>"
      ]
     },
     "execution_count": 15,
     "metadata": {},
     "output_type": "execute_result"
    },
    {
     "data": {
      "image/png": "[encoded data removed]",
      "text/plain": [
       "<matplotlib.figure.Figure at 0x8e8f678ac8>"
      ]
     },
     "metadata": {},
     "output_type": "display_data"
    }
   ],
   "source": [
    "plt.figure(figsize=(10,4))\n",
    "plt.xticks(range(len(wz)),yrd.rule.rule)\n",
    "plt.bar(range(len(wz)),[wz[x]for x in yrd.rule.rule],1,align = 'center')"
   ]
  },
  {
   "cell_type": "code",
   "execution_count": 16,
   "metadata": {
    "collapsed": false
   },
   "outputs": [],
   "source": [
    "yrd.n_day_bayes_train(10,sdate,edate,True)"
   ]
  },
  {
   "cell_type": "code",
   "execution_count": 17,
   "metadata": {
    "collapsed": true
   },
   "outputs": [],
   "source": [
    "dd = DailyData('yrd',sdate,edate,True).getData()[-10:]"
   ]
  },
  {
   "cell_type": "code",
   "execution_count": 18,
   "metadata": {
    "collapsed": false
   },
   "outputs": [
    {
     "data": {
      "text/plain": [
       "{-12.5: 1.89731969041991e-05,\n",
       " -10.0: 0,\n",
       " -5.0: 0.0025808391931132334,\n",
       " -2.5: 0.0018418351950125927,\n",
       " -1.25: 0.06924297169608466,\n",
       " -0.0001: 0.38096756089893336,\n",
       " 0.0001: 0.28212286410886694,\n",
       " 1.25: 0.2251011988118256,\n",
       " 2.5: 0.03795918090312524,\n",
       " 5.0: 0.00016228439156052257,\n",
       " 10.0: 0,\n",
       " 12.5: 0}"
      ]
     },
     "execution_count": 18,
     "metadata": {},
     "output_type": "execute_result"
    }
   ],
   "source": [
    "yrd.n_day_bayes_dist(10,dd)"
   ]
  }
 ],
 "metadata": {
  "anaconda-cloud": {},
  "kernelspec": {
   "display_name": "Python [default]",
   "language": "python",
   "name": "python3"
  },
  "language_info": {
   "codemirror_mode": {
    "name": "ipython",
    "version": 3
   },
   "file_extension": ".py",
   "mimetype": "text/x-python",
   "name": "python",
   "nbconvert_exporter": "python",
   "pygments_lexer": "ipython3",
   "version": "3.5.2"
  },
  "nbpresent": {
   "slides": {},
   "themes": {
    "default": "41cb8519-a61a-4517-8e70-9dce1a684ac4",
    "theme": {
     "41cb8519-a61a-4517-8e70-9dce1a684ac4": {
      "backgrounds": {
       "backgroundColor": {
        "background-color": "backgroundColor",
        "id": "backgroundColor"
       }
      },
      "id": "41cb8519-a61a-4517-8e70-9dce1a684ac4",
      "palette": {
       "backgroundColor": {
        "id": "backgroundColor",
        "rgb": [
         253,
         246,
         227
        ]
       },
       "headingColor": {
        "id": "headingColor",
        "rgb": [
         88,
         110,
         117
        ]
       },
       "linkColor": {
        "id": "linkColor",
        "rgb": [
         38,
         139,
         210
        ]
       },
       "mainColor": {
        "id": "mainColor",
        "rgb": [
         101,
         123,
         131
        ]
       }
      },
      "rules": {
       "a": {
        "color": "linkColor"
       },
       "h1": {
        "color": "headingColor",
        "font-family": "Oswald",
        "font-size": 7
       },
       "h2": {
        "color": "headingColor",
        "font-family": "Oswald",
        "font-size": 5
       },
       "h3": {
        "color": "headingColor",
        "font-family": "Oswald",
        "font-size": 3.75
       },
       "h4": {
        "color": "headingColor",
        "font-family": "Oswald",
        "font-size": 3
       },
       "h5": {
        "color": "headingColor",
        "font-family": "Oswald"
       },
       "h6": {
        "color": "headingColor",
        "font-family": "Oswald"
       },
       "h7": {
        "color": "headingColor",
        "font-family": "Oswald"
       },
       "li": {
        "color": "mainColor",
        "font-family": "Lato",
        "font-size": 5
       },
       "p": {
        "color": "mainColor",
        "font-family": "Lato",
        "font-size": 5
       }
      },
      "text-base": {
       "color": "mainColor",
       "font-family": "Lato",
       "font-size": 5
      }
     }
    }
   }
  }
 },
 "nbformat": 4,
 "nbformat_minor": 1
}
